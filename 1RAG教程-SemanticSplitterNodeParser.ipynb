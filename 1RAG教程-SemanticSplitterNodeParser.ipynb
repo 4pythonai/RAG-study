{
 "cells": [
  {
   "cell_type": "markdown",
   "id": "5f13f375",
   "metadata": {},
   "source": []
  },
  {
   "cell_type": "markdown",
   "id": "64517a93",
   "metadata": {},
   "source": [
    "# llamaindex 示范\n",
    "## 使用 openai embedding "
   ]
  },
  {
   "cell_type": "code",
   "execution_count": 5,
   "id": "62655a9b-4042-4e6a-97bd-68fd44c56b4f",
   "metadata": {},
   "outputs": [
    {
     "name": "stdout",
     "output_type": "stream",
     "text": [
      "/Users/alex/codebase/幻云/ai-finance-python/embedding-学习/RAG教程\n"
     ]
    }
   ],
   "source": [
    "# https://docs.llamaindex.ai/en/stable/examples/node_parsers/semantic_chunking/#chunk-1-ibm-1401\n",
    "\n",
    "\n",
    "import os\n",
    "from dotenv import load_dotenv, find_dotenv\n",
    "\n",
    "import pprint\n",
    "from llama_index.core import SimpleDirectoryReader\n",
    "from llama_index.embeddings.openai import OpenAIEmbedding\n",
    "from llama_index.core.node_parser import (\n",
    "    SemanticSplitterNodeParser,\n",
    ")\n",
    "\n",
    "\n",
    "\n",
    "\n",
    "workbookDir = os.getcwd()\n",
    "print(workbookDir)\n",
    "\n",
    "\n",
    "os.environ[\"OPENAI_API_KEY\"] = os.getenv(\"OPENAI_API_KEY\")\n",
    "\n",
    "# 从文本文件直接读取内容\n",
    "documents = SimpleDirectoryReader(input_files=[\"./files/text/pg_essay.txt\"]).load_data()\n",
    "embed_model = OpenAIEmbedding()\n",
    "semantic_splitter = SemanticSplitterNodeParser(\n",
    "    buffer_size=1, breakpoint_percentile_threshold=95, embed_model=embed_model\n",
    ")\n",
    "\n",
    "nodes = semantic_splitter.get_nodes_from_documents(documents)\n"
   ]
  },
  {
   "cell_type": "code",
   "execution_count": 6,
   "id": "6e0bad85-bb3a-4703-8448-c23953c0d9ec",
   "metadata": {},
   "outputs": [
    {
     "name": "stdout",
     "output_type": "stream",
     "text": [
      "<llama_index.core.query_engine.retriever_query_engine.RetrieverQueryEngine object at 0x103d19810>\n",
      "Response(response=\"The author's programming journey started with limited \"\n",
      "                  'access to computers that relied on punched cards for input. '\n",
      "                  \"With the introduction of microcomputers, the author's \"\n",
      "                  'interest in programming grew as they began writing simple '\n",
      "                  'games and programs on a TRS-80. Despite initially planning '\n",
      "                  'to study philosophy in college, the author found themselves '\n",
      "                  'drawn to AI due to influences like a novel featuring an '\n",
      "                  'intelligent computer and a PBS documentary showcasing AI '\n",
      "                  'applications. The lack of AI classes led the author to '\n",
      "                  'teach themselves Lisp, expanding their programming concepts '\n",
      "                  'significantly. This journey eventually led the author to a '\n",
      "                  'PhD program in computer science while also pursuing art '\n",
      "                  'classes and projects, culminating in a rapid dissertation '\n",
      "                  'completion to graduate.',\n",
      "         source_nodes=[NodeWithScore(node=TextNode(id_='4bf73cbc-bef9-4bfa-86ec-a8eac8b8538b', embedding=None, metadata={'file_path': 'files/text/pg_essay.txt', 'file_name': 'pg_essay.txt', 'file_type': 'text/plain', 'file_size': 74866, 'creation_date': '2024-04-30', 'last_modified_date': '2024-04-30'}, excluded_embed_metadata_keys=['file_name', 'file_type', 'file_size', 'creation_date', 'last_modified_date', 'last_accessed_date'], excluded_llm_metadata_keys=['file_name', 'file_type', 'file_size', 'creation_date', 'last_modified_date', 'last_accessed_date'], relationships={<NodeRelationship.SOURCE: '1'>: RelatedNodeInfo(node_id='d8bdefea-a837-4f5f-9ba8-d2765d5ebf24', node_type=<ObjectType.DOCUMENT: '4'>, metadata={'file_path': 'files/text/pg_essay.txt', 'file_name': 'pg_essay.txt', 'file_type': 'text/plain', 'file_size': 74866, 'creation_date': '2024-04-30', 'last_modified_date': '2024-04-30'}, hash='e025957229ca465cf034e424abb7f362a0100b957350a805927a01fc7615b9b6'), <NodeRelationship.PREVIOUS: '2'>: RelatedNodeInfo(node_id='b56cc758-558b-4ec9-8853-6daf85c016d3', node_type=<ObjectType.TEXT: '1'>, metadata={'file_path': 'files/text/pg_essay.txt', 'file_name': 'pg_essay.txt', 'file_type': 'text/plain', 'file_size': 74866, 'creation_date': '2024-04-30', 'last_modified_date': '2024-04-30'}, hash='a32e9143426ffd9d8f0277560d2ba5f516eae017abccbbde0b7ae47052e07d03'), <NodeRelationship.NEXT: '3'>: RelatedNodeInfo(node_id='07ce5d59-122a-423e-aede-0c7ed989be6c', node_type=<ObjectType.TEXT: '1'>, metadata={}, hash='bfbd8c82ab33d9ebacc09e0de4547cb9eb3298d2e29dc4dde353a6ab4a44932d')}, text=\"And in retrospect there's not much I could have done with it. The only form of input to programs was data stored on punched cards, and I didn't have any data stored on punched cards. The only other option was to do things that didn't rely on any input, like calculate approximations of pi, but I didn't know enough math to do anything interesting of that type. So I'm not surprised I can't remember any programs I wrote, because they can't have done much. My clearest memory is of the moment I learned it was possible for programs not to terminate, when one of mine didn't. On a machine without time-sharing, this was a social as well as a technical error, as the data center manager's expression made clear.\\nWith microcomputers, everything changed. Now you could have a computer sitting right in front of you, on a desk, that could respond to your keystrokes as it was running instead of just churning through a stack of punch cards and then stopping. [1]\\nThe first of my friends to get a microcomputer built it himself. It was sold as a kit by Heathkit. I remember vividly how impressed and envious I felt watching him sitting in front of it, typing programs right into the computer.\\nComputers were expensive in those days and it took me years of nagging before I convinced my father to buy one, a TRS-80, in about 1980. The gold standard then was the Apple II, but a TRS-80 was good enough. This was when I really started programming. I wrote simple games, a program to predict how high my model rockets would fly, and a word processor that my father used to write at least one book. There was only room in memory for about 2 pages of text, so he'd write 2 pages at a time and then print them out, but it was a lot better than a typewriter.\\nThough I liked programming, I didn't plan to study it in college. In college I was going to study philosophy, which sounded much more powerful. It seemed, to my naive high school self, to be the study of the ultimate truths, compared to which the things studied in other fields would be mere domain knowledge. What I discovered when I got to college was that the other fields took up so much of the space of ideas that there wasn't much left for these supposed ultimate truths. All that seemed left for philosophy were edge cases that people in other fields felt could safely be ignored.\\nI couldn't have put this into words when I was 18. All I knew at the time was that I kept taking philosophy courses and they kept being boring. So I decided to switch to AI.\\nAI was in the air in the mid 1980s, but there were two things especially that made me want to work on it: a novel by Heinlein called The Moon is a Harsh Mistress, which featured an intelligent computer called Mike, and a PBS documentary that showed Terry Winograd using SHRDLU. I haven't tried rereading The Moon is a Harsh Mistress, so I don't know how well it has aged, but when I read it I was drawn entirely into its world. It seemed only a matter of time before we'd have Mike, and when I saw Winograd using SHRDLU, it seemed like that time would be a few years at most. All you had to do was teach SHRDLU more words.\\nThere weren't any classes in AI at Cornell then, not even graduate classes, so I started trying to teach myself. Which meant learning Lisp, since in those days Lisp was regarded as the language of AI. The commonly used programming languages then were pretty primitive, and programmers' ideas correspondingly so. The default language at Cornell was a Pascal-like language called PL/I, and the situation was similar elsewhere. Learning Lisp expanded my concept of a program so fast that it was years before I started to have a sense of where the new limits were. This was more like it; this was what I had expected college to do. It wasn't happening in a class, like it was supposed to, but that was ok. For the next couple years I was on a roll. \", start_char_idx=1228, end_char_idx=5102, text_template='{metadata_str}\\n\\n{content}', metadata_template='{key}: {value}', metadata_seperator='\\n'), score=0.8519058455366576),\n",
      "                       NodeWithScore(node=TextNode(id_='ace0974c-2587-4191-8af9-e13282b21de3', embedding=None, metadata={'file_path': 'files/text/pg_essay.txt', 'file_name': 'pg_essay.txt', 'file_type': 'text/plain', 'file_size': 74866, 'creation_date': '2024-04-30', 'last_modified_date': '2024-04-30'}, excluded_embed_metadata_keys=['file_name', 'file_type', 'file_size', 'creation_date', 'last_modified_date', 'last_accessed_date'], excluded_llm_metadata_keys=['file_name', 'file_type', 'file_size', 'creation_date', 'last_modified_date', 'last_accessed_date'], relationships={<NodeRelationship.SOURCE: '1'>: RelatedNodeInfo(node_id='d8bdefea-a837-4f5f-9ba8-d2765d5ebf24', node_type=<ObjectType.DOCUMENT: '4'>, metadata={'file_path': 'files/text/pg_essay.txt', 'file_name': 'pg_essay.txt', 'file_type': 'text/plain', 'file_size': 74866, 'creation_date': '2024-04-30', 'last_modified_date': '2024-04-30'}, hash='e025957229ca465cf034e424abb7f362a0100b957350a805927a01fc7615b9b6'), <NodeRelationship.PREVIOUS: '2'>: RelatedNodeInfo(node_id='07ce5d59-122a-423e-aede-0c7ed989be6c', node_type=<ObjectType.TEXT: '1'>, metadata={'file_path': 'files/text/pg_essay.txt', 'file_name': 'pg_essay.txt', 'file_type': 'text/plain', 'file_size': 74866, 'creation_date': '2024-04-30', 'last_modified_date': '2024-04-30'}, hash='cb077769e6990d8c69cc2790269225124cd0c0b4dbcf8e734b384fd9c7792d70'), <NodeRelationship.NEXT: '3'>: RelatedNodeInfo(node_id='45fc1b43-a6a0-47b3-8d1b-7a2dfa80b871', node_type=<ObjectType.TEXT: '1'>, metadata={}, hash='bf9077e025d102111b5a42ec1bff136ce41e582e6c70bcfb407131564536e75f')}, text='I\\'d never imagined it was even possible. I knew intellectually that people made art — that it didn\\'t just appear spontaneously — but it was as if the people who made it were a different species. They either lived long ago or were mysterious geniuses doing strange things in profiles in Life magazine. The idea of actually being able to make art, to put that verb before that noun, seemed almost miraculous.\\nThat fall I started taking art classes at Harvard. Grad students could take classes in any department, and my advisor, Tom Cheatham, was very easy going. If he even knew about the strange classes I was taking, he never said anything.\\nSo now I was in a PhD program in computer science, yet planning to be an artist, yet also genuinely in love with Lisp hacking and working away at On Lisp. In other words, like many a grad student, I was working energetically on multiple projects that were not my thesis.\\nI didn\\'t see a way out of this situation. I didn\\'t want to drop out of grad school, but how else was I going to get out? I remember when my friend Robert Morris got kicked out of Cornell for writing the internet worm of 1988, I was envious that he\\'d found such a spectacular way to get out of grad school.\\nThen one day in April 1990 a crack appeared in the wall. I ran into professor Cheatham and he asked if I was far enough along to graduate that June. I didn\\'t have a word of my dissertation written, but in what must have been the quickest bit of thinking in my life, I decided to take a shot at writing one in the 5 weeks or so that remained before the deadline, reusing parts of On Lisp where I could, and I was able to respond, with no perceptible delay \"Yes, I think so. I\\'ll give you something to read in a few days.\"\\nI picked applications of continuations as the topic. In retrospect I should have written about macros and embedded languages. There\\'s a whole world there that\\'s barely been explored. But all I wanted was to get out of grad school, and my rapidly written dissertation sufficed, just barely.\\nMeanwhile I was applying to art schools. I applied to two: RISD in the US, and the Accademia di Belli Arti in Florence, which, because it was the oldest art school, I imagined would be good. RISD accepted me, and I never heard back from the Accademia, so off to Providence I went.\\nI\\'d applied for the BFA program at RISD, which meant in effect that I had to go to college again. This was not as strange as it sounds, because I was only 25, and art schools are full of people of different ages. RISD counted me as a transfer sophomore and said I had to do the foundation that summer. The foundation means the classes that everyone has to take in fundamental subjects like drawing, color, and design.\\nToward the end of the summer I got a big surprise: a letter from the Accademia, which had been delayed because they\\'d sent it to Cambridge England instead of Cambridge Massachusetts, inviting me to take the entrance exam in Florence that fall. This was now only weeks away. ', start_char_idx=9782, end_char_idx=12784, text_template='{metadata_str}\\n\\n{content}', metadata_template='{key}: {value}', metadata_seperator='\\n'), score=0.8447258783723334)],\n",
      "         metadata={'4bf73cbc-bef9-4bfa-86ec-a8eac8b8538b': {'file_path': 'files/text/pg_essay.txt',\n",
      "                                                            'file_name': 'pg_essay.txt',\n",
      "                                                            'file_type': 'text/plain',\n",
      "                                                            'file_size': 74866,\n",
      "                                                            'creation_date': '2024-04-30',\n",
      "                                                            'last_modified_date': '2024-04-30'},\n",
      "                   'ace0974c-2587-4191-8af9-e13282b21de3': {'file_path': 'files/text/pg_essay.txt',\n",
      "                                                            'file_name': 'pg_essay.txt',\n",
      "                                                            'file_type': 'text/plain',\n",
      "                                                            'file_size': 74866,\n",
      "                                                            'creation_date': '2024-04-30',\n",
      "                                                            'last_modified_date': '2024-04-30'}})\n",
      "The author's programming journey started with limited access to computers that relied on punched cards for input. With the introduction of microcomputers, the author's interest in programming grew as they began writing simple games and programs on a TRS-80. Despite initially planning to study philosophy in college, the author found themselves drawn to AI due to influences like a novel featuring an intelligent computer and a PBS documentary showcasing AI applications. The lack of AI classes led the author to teach themselves Lisp, expanding their programming concepts significantly. This journey eventually led the author to a PhD program in computer science while also pursuing art classes and projects, culminating in a rapid dissertation completion to graduate.\n"
     ]
    }
   ],
   "source": [
    "from llama_index.core import VectorStoreIndex\n",
    "from llama_index.core.response.notebook_utils import display_source_node\n",
    "\n",
    "\n",
    "vector_index = VectorStoreIndex(nodes)\n",
    "query_engine = vector_index.as_query_engine()\n",
    "pprint.pp(query_engine)\n",
    "response = query_engine.query(\n",
    "        \"Tell me about the author's programming journey through childhood to college\"\n",
    ")\n",
    "pprint.pp(response)\n",
    "print(str(response))\n"
   ]
  },
  {
   "cell_type": "code",
   "execution_count": 7,
   "id": "f3b62f32",
   "metadata": {},
   "outputs": [
    {
     "data": {
      "text/markdown": [
       "**Node ID:** 4bf73cbc-bef9-4bfa-86ec-a8eac8b8538b<br>**Similarity:** 0.8519058455366576<br>**Text:** And in retrospect there's not much I could have done with it. The only form of input to programs was data stored on punched cards, and I didn't have any data stored on punched cards. The only other option was to do things that didn't rely on any input, like calculate approximations of pi, but I didn't know enough math to do anything interesting of that type. So I'm not surprised I can't remember any programs I wrote, because they can't have done much. My clearest memory is of the moment I learned it was possible for programs not to terminate, when one of mine didn't. On a machine without time-sharing, this was a social as well as a technical error, as the data center manager's expression made clear.\n",
       "With microcomputers, everything changed. Now you could have a computer sitting right in front of you, on a desk, that could respond to your keystrokes as it was running instead of just churning through a stack of punch cards and then stopping. [1]\n",
       "The first of my friends to get a microcomputer built it himself. It was sold as a kit by Heathkit. I remember vividly how impressed and envious I felt watching him sitting in front of it, typing programs right into the computer.\n",
       "Computers were expensive in those days and it took me years of nagging before I convinced my father to buy one, a TRS-80, in about 1980. The gold standard then was the Apple II, but a TRS-80 was good enough. This was when I really started programming. I wrote simple games, a program to predict how high my model rockets would fly, and a word processor that my father used to write at least one book. There was only room in memory for about 2 pages of text, so he'd write 2 pages at a time and then print them out, but it was a lot better than a typewriter.\n",
       "Though I liked programming, I didn't plan to study it in college. In college I was going to study philosophy, which sounded much more powerful. It seemed, to my naive high school self, to be the study of the ultimate truths, compared to which the things studied in other fields would be mere domain knowledge. What I discovered when I got to college was that the other fields took up so much of the space of ideas that there wasn't much left for these supposed ultimate truths. All that seemed left for philosophy were edge cases that people in other fields felt could safely be ignored.\n",
       "I couldn't have put this into words when I was 18. All I knew at the time was that I kept taking philosophy courses and they kept being boring. So I decided to switch to AI.\n",
       "AI was in the air in the mid 1980s, but there were two things especially that made me want to work on it: a novel by Heinlein called The Moon is a Harsh Mistress, which featured an intelligent computer called Mike, and a PBS documentary that showed Terry Winograd using SHRDLU. I haven't tried rereading The Moon is a Harsh Mistress, so I don't know how well it has aged, but when I read it I was drawn entirely into its world. It seemed only a matter of time before we'd have Mike, and when I saw Winograd using SHRDLU, it seemed like that time would be a few years at most. All you had to do was teach SHRDLU more words.\n",
       "There weren't any classes in AI at Cornell then, not even graduate classes, so I started trying to teach myself. Which meant learning Lisp, since in those days Lisp was regarded as the language of AI. The commonly used programming languages then were pretty primitive, and programmers' ideas correspondingly so. The default language at Cornell was a Pascal-like language called PL/I, and the situation was similar elsewhere. Learning Lisp expanded my concept of a program so fast that it was years before I started to have a sense of where the new limits were. This was more like it; this was what I had expected college to do. It wasn't happening in a class, like it was supposed to, but that was ok. For the next couple years I was on a roll.<br>"
      ],
      "text/plain": [
       "<IPython.core.display.Markdown object>"
      ]
     },
     "metadata": {},
     "output_type": "display_data"
    },
    {
     "data": {
      "text/markdown": [
       "**Node ID:** ace0974c-2587-4191-8af9-e13282b21de3<br>**Similarity:** 0.8447258783723334<br>**Text:** I'd never imagined it was even possible. I knew intellectually that people made art — that it didn't just appear spontaneously — but it was as if the people who made it were a different species. They either lived long ago or were mysterious geniuses doing strange things in profiles in Life magazine. The idea of actually being able to make art, to put that verb before that noun, seemed almost miraculous.\n",
       "That fall I started taking art classes at Harvard. Grad students could take classes in any department, and my advisor, Tom Cheatham, was very easy going. If he even knew about the strange classes I was taking, he never said anything.\n",
       "So now I was in a PhD program in computer science, yet planning to be an artist, yet also genuinely in love with Lisp hacking and working away at On Lisp. In other words, like many a grad student, I was working energetically on multiple projects that were not my thesis.\n",
       "I didn't see a way out of this situation. I didn't want to drop out of grad school, but how else was I going to get out? I remember when my friend Robert Morris got kicked out of Cornell for writing the internet worm of 1988, I was envious that he'd found such a spectacular way to get out of grad school.\n",
       "Then one day in April 1990 a crack appeared in the wall. I ran into professor Cheatham and he asked if I was far enough along to graduate that June. I didn't have a word of my dissertation written, but in what must have been the quickest bit of thinking in my life, I decided to take a shot at writing one in the 5 weeks or so that remained before the deadline, reusing parts of On Lisp where I could, and I was able to respond, with no perceptible delay \"Yes, I think so. I'll give you something to read in a few days.\"\n",
       "I picked applications of continuations as the topic. In retrospect I should have written about macros and embedded languages. There's a whole world there that's barely been explored. But all I wanted was to get out of grad school, and my rapidly written dissertation sufficed, just barely.\n",
       "Meanwhile I was applying to art schools. I applied to two: RISD in the US, and the Accademia di Belli Arti in Florence, which, because it was the oldest art school, I imagined would be good. RISD accepted me, and I never heard back from the Accademia, so off to Providence I went.\n",
       "I'd applied for the BFA program at RISD, which meant in effect that I had to go to college again. This was not as strange as it sounds, because I was only 25, and art schools are full of people of different ages. RISD counted me as a transfer sophomore and said I had to do the foundation that summer. The foundation means the classes that everyone has to take in fundamental subjects like drawing, color, and design.\n",
       "Toward the end of the summer I got a big surprise: a letter from the Accademia, which had been delayed because they'd sent it to Cambridge England instead of Cambridge Massachusetts, inviting me to take the entrance exam in Florence that fall. This was now only weeks away.<br>"
      ],
      "text/plain": [
       "<IPython.core.display.Markdown object>"
      ]
     },
     "metadata": {},
     "output_type": "display_data"
    }
   ],
   "source": [
    "## 答案的基础 : spurce_nodes\n",
    "\n",
    "for n in response.source_nodes:\n",
    "    display_source_node(n, source_length=20000)"
   ]
  }
 ],
 "metadata": {
  "kernelspec": {
   "display_name": "Python 3 (ipykernel)",
   "language": "python",
   "name": "python3"
  },
  "language_info": {
   "codemirror_mode": {
    "name": "ipython",
    "version": 3
   },
   "file_extension": ".py",
   "mimetype": "text/x-python",
   "name": "python",
   "nbconvert_exporter": "python",
   "pygments_lexer": "ipython3",
   "version": "3.11.7"
  }
 },
 "nbformat": 4,
 "nbformat_minor": 5
}
