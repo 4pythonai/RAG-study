{
 "cells": [
  {
   "cell_type": "markdown",
   "id": "5f13f375",
   "metadata": {},
   "source": []
  },
  {
   "cell_type": "code",
   "execution_count": null,
   "id": "62655a9b-4042-4e6a-97bd-68fd44c56b4f",
   "metadata": {},
   "outputs": [],
   "source": [
    "# https://docs.llamaindex.ai/en/stable/examples/node_parsers/semantic_chunking/#chunk-1-ibm-1401\n",
    "\n",
    "from llama_index.core import SimpleDirectoryReader\n",
    "from llama_index.core.node_parser import (\n",
    "    SentenceSplitter,\n",
    ")\n",
    "\n",
    "documents = SimpleDirectoryReader(input_files=[\"./files/text/pg_essay.txt\"]).load_data()\n",
    "base_splitter = SentenceSplitter(chunk_size=512)\n",
    "base_nodes = base_splitter.get_nodes_from_documents(documents)\n"
   ]
  },
  {
   "cell_type": "code",
   "execution_count": null,
   "id": "6e0bad85-bb3a-4703-8448-c23953c0d9ec",
   "metadata": {},
   "outputs": [],
   "source": [
    "from llama_index.core import VectorStoreIndex\n",
    "from llama_index.core.response.notebook_utils import display_source_node\n",
    "\n",
    "\n",
    "base_vector_index = VectorStoreIndex(base_nodes)\n",
    "print( type(VectorStoreIndex))\n",
    "base_query_engine = base_vector_index.as_query_engine()\n",
    "\n",
    "\n",
    "base_response = base_query_engine.query(\n",
    "    \"Tell me about the author's programming journey through childhood to college\"\n",
    ")\n",
    "\n",
    "\n",
    "print(str(base_response))\n"
   ]
  },
  {
   "cell_type": "code",
   "execution_count": null,
   "id": "8ee86cd4",
   "metadata": {},
   "outputs": [],
   "source": [
    "## 答案的基础 : spurce_nodes\n",
    "\n",
    "for n in base_response.source_nodes:\n",
    "    display_source_node(n, source_length=20000)"
   ]
  }
 ],
 "metadata": {
  "kernelspec": {
   "display_name": "Python 3 (ipykernel)",
   "language": "python",
   "name": "python3"
  },
  "language_info": {
   "codemirror_mode": {
    "name": "ipython",
    "version": 3
   },
   "file_extension": ".py",
   "mimetype": "text/x-python",
   "name": "python",
   "nbconvert_exporter": "python",
   "pygments_lexer": "ipython3",
   "version": "3.11.7"
  }
 },
 "nbformat": 4,
 "nbformat_minor": 5
}
