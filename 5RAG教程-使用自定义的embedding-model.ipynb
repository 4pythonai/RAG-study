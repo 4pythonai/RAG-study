{
 "cells": [
  {
   "cell_type": "markdown",
   "id": "5f13f375",
   "metadata": {},
   "source": []
  },
  {
   "cell_type": "markdown",
   "id": "64517a93",
   "metadata": {},
   "source": [
    "# llamaindex 示范\n",
    "## 使用 自定义嵌入模型"
   ]
  },
  {
   "cell_type": "code",
   "execution_count": null,
   "id": "22c47f8f",
   "metadata": {},
   "outputs": [],
   "source": [
    "# https://docs.llamaindex.ai/en/stable/examples/node_parsers/semantic_chunking/#chunk-1-ibm-1401\n",
    "\n",
    "import pprint\n",
    "from llama_index.core import VectorStoreIndex, SimpleDirectoryReader, Settings\n",
    "from llama_index.core.embeddings import resolve_embed_model\n",
    "from llama_index.llms.ollama import Ollama\n",
    "from llama_index.core.response.notebook_utils import display_source_node\n",
    "\n",
    "\n",
    "\n",
    "\n",
    "print(\"❎❎❎❎❎❎❎❎❎❎❎❎❎❎❎❎❎\")\n",
    "Settings.embed_model = resolve_embed_model(\"local:BAAI/bge-large-zh\")\n",
    "print(\"🌼🌼🌼🌼🌼🌼🌼🌼🌼🌼🌼🌼🌼🌼🌼🌼🌼🌼🌼\")\n"
   ]
  },
  {
   "cell_type": "code",
   "execution_count": 5,
   "id": "62655a9b-4042-4e6a-97bd-68fd44c56b4f",
   "metadata": {},
   "outputs": [
    {
     "name": "stdout",
     "output_type": "stream",
     "text": [
      "㊙️㊙️㊙️㊙️㊙️㊙️㊙️㊙️㊙️㊙️㊙️㊙️㊙️㊙️㊙️㊙️㊙️㊙️㊙️㊙️㊙️㊙️\n",
      "❎❎❎❎❎❎❎❎❎❎❎❎❎❎❎❎❎\n",
      "🌼🌼🌼🌼🌼🌼🌼🌼🌼🌼🌼🌼🌼🌼🌼🌼🌼🌼🌼\n",
      "🍥🍥🍥🍥🍥🍥🍥🍥🍥🍥🍥🍥🍥🍥🍥🍥🍥🍥🍥🍥🍥🍥🍥🍥🍥\n",
      "<llama_index.core.indices.vector_store.base.VectorStoreIndex object at 0x7f82618f42e0>\n",
      "<llama_index.core.query_engine.retriever_query_engine.RetrieverQueryEngine object at 0x7f82c7913070>\n",
      "Response(response='祥子的职业是洋车夫，也就是现在的出租车司机。\\n',\n",
      "         source_nodes=[NodeWithScore(node=TextNode(id_='b558ceba-dd72-4d46-b3d2-4cbd48efc860', embedding=None, metadata={'file_path': 'files/text/luotuoxiangzi.txt', 'file_name': 'luotuoxiangzi.txt', 'file_type': 'text/plain', 'file_size': 405712, 'creation_date': '2024-05-03', 'last_modified_date': '2024-05-03'}, excluded_embed_metadata_keys=['file_name', 'file_type', 'file_size', 'creation_date', 'last_modified_date', 'last_accessed_date'], excluded_llm_metadata_keys=['file_name', 'file_type', 'file_size', 'creation_date', 'last_modified_date', 'last_accessed_date'], relationships={<NodeRelationship.SOURCE: '1'>: RelatedNodeInfo(node_id='644b3326-e7ed-4c39-9c34-9de1d736bcb3', node_type=<ObjectType.DOCUMENT: '4'>, metadata={'file_path': 'files/text/luotuoxiangzi.txt', 'file_name': 'luotuoxiangzi.txt', 'file_type': 'text/plain', 'file_size': 405712, 'creation_date': '2024-05-03', 'last_modified_date': '2024-05-03'}, hash='10e4431f71fdf0773aba7471001b863013c75864d4a42d88c7c71822be845f72'), <NodeRelationship.PREVIOUS: '2'>: RelatedNodeInfo(node_id='6c1e0ca7-64fd-4623-b0e9-e7479a1d873a', node_type=<ObjectType.TEXT: '1'>, metadata={'file_path': 'files/text/luotuoxiangzi.txt', 'file_name': 'luotuoxiangzi.txt', 'file_type': 'text/plain', 'file_size': 405712, 'creation_date': '2024-05-03', 'last_modified_date': '2024-05-03'}, hash='edee92dd376d1d61eab980f89f3cb1cae4b2edd9d0cd7ce6685c361e3c0d87ae')}, text='那穿红衣的锣夫，与拿着绸旗的催押执事，几乎把所有的村话都向他骂去：“孙子！我说你呢，骆驼！你他妈的看齐！”他似乎还没有听见。打锣的过去给了他一锣锤，他翻了翻眼，朦胧的向四外看一下。没管打锣的说了什么，他留神的在地上找，看有没有值得拾起来的烟头儿。体面的，要强的，好梦想的，利己的，个人的，健壮的，伟大的，祥子，不知陪着人家送了多少回殡；不知道何时何地会埋起他自己来，\\n埋起这堕落的，自私的，不幸的，社会病胎里的产儿，个人主义的末路鬼！', start_char_idx=136488, end_char_idx=136705, text_template='{metadata_str}\\n\\n{content}', metadata_template='{key}: {value}', metadata_seperator='\\n'), score=0.6870168636458523),\n",
      "                       NodeWithScore(node=TextNode(id_='db935d3b-59dc-4fc2-bc17-73ef00d05354', embedding=None, metadata={'file_path': 'files/text/luotuoxiangzi.txt', 'file_name': 'luotuoxiangzi.txt', 'file_type': 'text/plain', 'file_size': 405712, 'creation_date': '2024-05-03', 'last_modified_date': '2024-05-03'}, excluded_embed_metadata_keys=['file_name', 'file_type', 'file_size', 'creation_date', 'last_modified_date', 'last_accessed_date'], excluded_llm_metadata_keys=['file_name', 'file_type', 'file_size', 'creation_date', 'last_modified_date', 'last_accessed_date'], relationships={<NodeRelationship.SOURCE: '1'>: RelatedNodeInfo(node_id='644b3326-e7ed-4c39-9c34-9de1d736bcb3', node_type=<ObjectType.DOCUMENT: '4'>, metadata={'file_path': 'files/text/luotuoxiangzi.txt', 'file_name': 'luotuoxiangzi.txt', 'file_type': 'text/plain', 'file_size': 405712, 'creation_date': '2024-05-03', 'last_modified_date': '2024-05-03'}, hash='10e4431f71fdf0773aba7471001b863013c75864d4a42d88c7c71822be845f72'), <NodeRelationship.PREVIOUS: '2'>: RelatedNodeInfo(node_id='a2a25fe7-a561-4949-91ad-af895b0f33d9', node_type=<ObjectType.TEXT: '1'>, metadata={'file_path': 'files/text/luotuoxiangzi.txt', 'file_name': 'luotuoxiangzi.txt', 'file_type': 'text/plain', 'file_size': 405712, 'creation_date': '2024-05-03', 'last_modified_date': '2024-05-03'}, hash='d5bc3906009c46669dd8d1dfff4c99b59cdff8480c3cab17d7d5ca545667f654'), <NodeRelationship.NEXT: '3'>: RelatedNodeInfo(node_id='4f997ad7-a949-45fa-bc84-a12ba7001632', node_type=<ObjectType.TEXT: '1'>, metadata={}, hash='5d997a0e3fce67513ecebbf7496a23ea2c132fd28f592a35e63ff4e47735aa5c')}, text='气长也还算小事，一般车夫万不能争这项生意的原因，大半还是因为这些吃洋饭的有点与众不同的知识，他们会说外国话。英国兵，法国兵，所说的万寿山，雍和宫，“八大胡同”，他们都晓得。他们自己有一套外国话，不传授给别人。他们的跑法也特别，四六步儿不快不慢，低着头，目不旁视的，贴着马路边儿走，带出与世无争，而自有专长的神气。因为拉着洋人，他们可以不穿号坎，而一律的是长袖小白褂，白的或黑的裤子，裤筒特别肥，脚腕上系着细带；脚上是宽双脸千层底青布鞋；干净，利落，神气。一见这样的服装，别的车夫不会再过来争座与赛车，他们似乎是属于另一行业的。\\n\\n有了这点简单的分析，我们再说祥子的地位，就象说——我们希望——一盘机器上的某种钉子那么准确了。祥子，在与“骆驼”这个外号发生关系以前，是个较比有自由的洋车夫，这就是说，他是属于年轻力壮，而且自己有车的那一类：自己的车，自己的生活，都在自己手里，高等车夫。这可绝不是件容易的事。一年，二年，至少有三四年；一滴汗，两滴汗，不知道多少万滴汗，才挣出那辆车。从风里雨里的咬牙，从饭里茶里的自苦，才赚出那辆车。那辆车是他的一切挣扎与困苦的总结果与报酬，象身经百战的武士的一颗徽章。在他赁人家的车的时候，他从早到晚，由东到西，由南到北，象被人家抽着转的陀螺；他没有自己。可是在这种旋转之中，他的眼并没有花，心并没有乱，他老想着远远的一辆车，可以使他自由，独立，象自己的手脚的那么一辆车。有了自己的车，他可以不再受拴车的人们的气，也无须敷衍别人；有自己的力气与洋车，睁开眼就可以有饭吃。\\n\\n他不怕吃苦，也没有一般洋车夫的可以原谅而不便效法的恶习，他的聪明和努力都足以使他的志愿成为事实。假若他的环境好一些，或多受着点教育，他一定不会落在“胶皮团”\\n\\n①里，而且无论是干什么，他总不会辜负了他的机会。不幸，他必须拉洋车；好，在这个营生里他也证明出他的能力与聪明。', start_char_idx=1236, end_char_idx=2024, text_template='{metadata_str}\\n\\n{content}', metadata_template='{key}: {value}', metadata_seperator='\\n'), score=0.6840509871870758)],\n",
      "         metadata={'b558ceba-dd72-4d46-b3d2-4cbd48efc860': {'file_path': 'files/text/luotuoxiangzi.txt',\n",
      "                                                            'file_name': 'luotuoxiangzi.txt',\n",
      "                                                            'file_type': 'text/plain',\n",
      "                                                            'file_size': 405712,\n",
      "                                                            'creation_date': '2024-05-03',\n",
      "                                                            'last_modified_date': '2024-05-03'},\n",
      "                   'db935d3b-59dc-4fc2-bc17-73ef00d05354': {'file_path': 'files/text/luotuoxiangzi.txt',\n",
      "                                                            'file_name': 'luotuoxiangzi.txt',\n",
      "                                                            'file_type': 'text/plain',\n",
      "                                                            'file_size': 405712,\n",
      "                                                            'creation_date': '2024-05-03',\n",
      "                                                            'last_modified_date': '2024-05-03'}})\n",
      "祥子的职业是洋车夫，也就是现在的出租车司机。\n",
      "\n",
      "㊙️㊙️㊙️\n",
      "2\n"
     ]
    },
    {
     "data": {
      "text/markdown": [
       "**Node ID:** b558ceba-dd72-4d46-b3d2-4cbd48efc860<br>**Similarity:** 0.6870168636458523<br>**Text:** 那穿红衣的锣夫，与拿着绸旗的催押执事，几乎把所有的村话都向他骂去：“孙子！我说你呢，骆驼！你他妈的看齐！”他似乎还没有听见。打锣的过去给了他一锣锤，他翻了翻眼，朦胧的向四外看一下。没管打锣的说了什么，他留神的在地上找，看有没有值得拾起来的烟头儿。体面的，要强的，好梦想的，利己的，个人的，健壮的，伟大的，祥子，不知陪着人家送了多少回殡；不知道何时何地会埋起他自己来，\n",
       "埋起这堕落的，自私的，不幸的，社会病胎里的产儿，个人主义的末路鬼！<br>"
      ],
      "text/plain": [
       "<IPython.core.display.Markdown object>"
      ]
     },
     "metadata": {},
     "output_type": "display_data"
    },
    {
     "data": {
      "text/markdown": [
       "**Node ID:** db935d3b-59dc-4fc2-bc17-73ef00d05354<br>**Similarity:** 0.6840509871870758<br>**Text:** 气长也还算小事，一般车夫万不能争这项生意的原因，大半还是因为这些吃洋饭的有点与众不同的知识，他们会说外国话。英国兵，法国兵，所说的万寿山，雍和宫，“八大胡同”，他们都晓得。他们自己有一套外国话，不传授给别人。他们的跑法也特别，四六步儿不快不慢，低着头，目不旁视的，贴着马路边儿走，带出与世无争，而自有专长的神气。因为拉着洋人，他们可以不穿号坎，而一律的是长袖小白褂，白的或黑的裤子，裤筒特别肥，脚腕上系着细带；脚上是宽双脸千层底青布鞋；干净，利落，神气。一见这样的服装，别的车夫不会再过来争座与赛车，他们似乎是属于另一行业的。\n",
       "\n",
       "有了这点简单的分析，我们再说祥子的地位，就象说——我们希望——一盘机器上的某种钉子那么准确了。祥子，在与“骆驼”这个外号发生关系以前，是个较比有自由的洋车夫，这就是说，他是属于年轻力壮，而且自己有车的那一类：自己的车，自己的生活，都在自己手里，高等车夫。这可绝不是件容易的事。一年，二年，至少有三四年；一滴汗，两滴汗，不知道多少万滴汗，才挣出那辆车。从风里雨里的咬牙，从饭里茶里的自苦，才赚出那辆车。那辆车是他的一切挣扎与困苦的总结果与报酬，象身经百战的武士的一颗徽章。在他赁人家的车的时候，他从早到晚，由东到西，由南到北，象被人家抽着转的陀螺；他没有自己。可是在这种旋转之中，他的眼并没有花，心并没有乱，他老想着远远的一辆车，可以使他自由，独立，象自己的手脚的那么一辆车。有了自己的车，他可以不再受拴车的人们的气，也无须敷衍别人；有自己的力气与洋车，睁开眼就可以有饭吃。\n",
       "\n",
       "他不怕吃苦，也没有一般洋车夫的可以原谅而不便效法的恶习，他的聪明和努力都足以使他的志愿成为事实。假若他的环境好一些，或多受着点教育，他一定不会落在“胶皮团”\n",
       "\n",
       "①里，而且无论是干什么，他总不会辜负了他的机会。不幸，他必须拉洋车；好，在这个营生里他也证明出他的能力与聪明。<br>"
      ],
      "text/plain": [
       "<IPython.core.display.Markdown object>"
      ]
     },
     "metadata": {},
     "output_type": "display_data"
    }
   ],
   "source": [
    "# https://docs.llamaindex.ai/en/stable/examples/node_parsers/semantic_chunking/#chunk-1-ibm-1401\n",
    "\n",
    "from llama_index.core.embeddings import resolve_embed_model\n",
    "\n",
    "\n",
    "\n",
    "\n",
    "# 从文本文件直接读取内容\n",
    "print(\"㊙️㊙️㊙️㊙️㊙️㊙️㊙️㊙️㊙️㊙️㊙️㊙️㊙️㊙️㊙️㊙️㊙️㊙️㊙️㊙️㊙️㊙️\")\n",
    "documents = SimpleDirectoryReader(input_files=[\"./files/text/luotuoxiangzi.txt\"]).load_data()\n",
    "\n",
    "\n",
    "print(\"❎❎❎❎❎❎❎❎❎❎❎❎❎❎❎❎❎\")\n",
    "Settings.embed_model = resolve_embed_model(\"local:BAAI/bge-large-zh\")\n",
    "print(\"🌼🌼🌼🌼🌼🌼🌼🌼🌼🌼🌼🌼🌼🌼🌼🌼🌼🌼🌼\")\n",
    "\n",
    "# ollama\n",
    "Settings.llm = Ollama(model=\"qwen:7b\",base_url=\"http://119.255.238.247:11434\",  request_timeout=300)\n",
    "vector_index = VectorStoreIndex.from_documents( documents )\n",
    "print(\"🍥🍥🍥🍥🍥🍥🍥🍥🍥🍥🍥🍥🍥🍥🍥🍥🍥🍥🍥🍥🍥🍥🍥🍥🍥\")\n",
    "print(vector_index)\n",
    "\n",
    "\n",
    "def props(cls):   \n",
    "  return [i for i in cls.__dict__.keys() if i[:1] != '_']\n",
    "\n",
    "\n",
    "query_engine = vector_index.as_query_engine()\n",
    "pprint.pp(query_engine)\n",
    "        # \"Tell me about the author's programming journey through childhood to college\"\n",
    "\n",
    "response = query_engine.query(\n",
    "        \" 祥子的职业是什么? \"\n",
    ")\n",
    "\n",
    "pprint.pp(response)\n",
    "print(str(response))\n",
    "\n",
    "print(\"㊙️㊙️㊙️\")\n",
    "print(  len(  response.source_nodes))\n",
    "\n",
    "for n in response.source_nodes:\n",
    "    display_source_node(n, source_length=20000)\n"
   ]
  }
 ],
 "metadata": {
  "kernelspec": {
   "display_name": "Python 3 (ipykernel)",
   "language": "python",
   "name": "python3"
  },
  "language_info": {
   "codemirror_mode": {
    "name": "ipython",
    "version": 3
   },
   "file_extension": ".py",
   "mimetype": "text/x-python",
   "name": "python",
   "nbconvert_exporter": "python",
   "pygments_lexer": "ipython3",
   "version": "3.10.14"
  }
 },
 "nbformat": 4,
 "nbformat_minor": 5
}
