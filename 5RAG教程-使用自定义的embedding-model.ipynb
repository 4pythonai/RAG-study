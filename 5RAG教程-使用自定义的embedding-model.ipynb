{
 "cells": [
  {
   "cell_type": "markdown",
   "id": "5f13f375",
   "metadata": {},
   "source": []
  },
  {
   "cell_type": "markdown",
   "id": "64517a93",
   "metadata": {},
   "source": [
    "# llamaindex 示范\n",
    "## 使用 自定义嵌入模型"
   ]
  },
  {
   "cell_type": "code",
   "execution_count": null,
   "id": "62655a9b-4042-4e6a-97bd-68fd44c56b4f",
   "metadata": {},
   "outputs": [],
   "source": [
    "# https://docs.llamaindex.ai/en/stable/examples/node_parsers/semantic_chunking/#chunk-1-ibm-1401\n",
    "\n",
    "import pprint\n",
    "from llama_index.core import VectorStoreIndex, SimpleDirectoryReader, Settings\n",
    "from llama_index.core.embeddings import resolve_embed_model\n",
    "from llama_index.llms.ollama import Ollama\n",
    "\n",
    "\n",
    "\n",
    "\n",
    "\n",
    "llm = Ollama(model=\"tinydolphin\", request_timeout=60.0)\n",
    "response = llm.complete(\"What is the capital of France?\")\n",
    "print(response)\n",
    "\n",
    "\n",
    "\n",
    "\n",
    "# 从文本文件直接读取内容\n",
    "documents = SimpleDirectoryReader(input_files=[\"./files/text/pg_essay.txt\"]).load_data()\n",
    "\n",
    "# bge embedding model\n",
    "# BAAI--bge-small-en-v1.5\n",
    "Settings.embed_model = resolve_embed_model(\"local:BAAI/bge-small-en-v1.5\")\n",
    "\n",
    "# ollama\n",
    "Settings.llm = Ollama(model=\"tinydolphin\", request_timeout=30.0)\n",
    "\n",
    "vector_index = VectorStoreIndex.from_documents(\n",
    "    documents,\n",
    ")\n",
    "\n",
    "\n",
    "print(\"🍥🍥🍥🍥🍥🍥🍥🍥🍥🍥🍥🍥🍥🍥🍥🍥🍥🍥🍥🍥🍥🍥🍥🍥🍥\")\n",
    "print(vector_index)\n",
    "\n",
    "\n",
    "def props(cls):   \n",
    "  return [i for i in cls.__dict__.keys() if i[:1] != '_']\n",
    "\n",
    "# baai_emb_model = HuggingFaceEmbeddings(model_name=\"BAAI/bge-large-en\")\n",
    "# print(baai_emb_model)\n",
    "# print(type(baai_emb_model))\n",
    "# properties = props(baai_emb_model)\n",
    "# print(\"🍥🍥🍥🍥🍥🍥🍥🍥🍥🍥🍥🍥🍥🍥🍥🍥🍥🍥🍥🍥🍥🍥🍥🍥🍥\")\n",
    "# print(properties)\n",
    "# semantic_splitter = SemanticSplitterNodeParser(\n",
    "#     buffer_size=1, breakpoint_percentile_threshold=95, embed_model=baai_emb_model\n",
    "# )\n",
    "\n",
    "# nodes = semantic_splitter.get_nodes_from_documents(documents)\n"
   ]
  },
  {
   "cell_type": "code",
   "execution_count": null,
   "id": "6e0bad85-bb3a-4703-8448-c23953c0d9ec",
   "metadata": {},
   "outputs": [],
   "source": [
    "from llama_index.core import VectorStoreIndex\n",
    "from llama_index.core.response.notebook_utils import display_source_node\n",
    "\n",
    "\n",
    "\n",
    "# curl http://localhost:11434/api/generate -d '{ \"model\": \"tinydolphin\", \"prompt\":\"Why is the sky blue?\" }'\n",
    "\n",
    "\n",
    "# vector_index = VectorStoreIndex(nodes)\n",
    "query_engine = vector_index.as_query_engine()\n",
    "pprint.pp(query_engine)\n",
    "response = query_engine.query(\n",
    "        \"Tell me about the author's programming journey through childhood to college\"\n",
    ")\n",
    "pprint.pp(response)\n",
    "print(str(response))\n"
   ]
  },
  {
   "cell_type": "code",
   "execution_count": null,
   "id": "f3b62f32",
   "metadata": {},
   "outputs": [],
   "source": [
    "## 答案的基础 : spurce_nodes\n",
    "\n",
    "for n in response.source_nodes:\n",
    "    display_source_node(n, source_length=20000)"
   ]
  }
 ],
 "metadata": {
  "kernelspec": {
   "display_name": "Python 3 (ipykernel)",
   "language": "python",
   "name": "python3"
  },
  "language_info": {
   "codemirror_mode": {
    "name": "ipython",
    "version": 3
   },
   "file_extension": ".py",
   "mimetype": "text/x-python",
   "name": "python",
   "nbconvert_exporter": "python",
   "pygments_lexer": "ipython3",
   "version": "3.10.14"
  }
 },
 "nbformat": 4,
 "nbformat_minor": 5
}
